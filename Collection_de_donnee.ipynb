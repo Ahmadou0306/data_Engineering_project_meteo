{
 "cells": [
  {
   "cell_type": "code",
   "execution_count": 1,
   "metadata": {},
   "outputs": [],
   "source": [
    "import requests\n",
    "import json\n",
    "import time"
   ]
  },
  {
   "cell_type": "code",
   "execution_count": 2,
   "metadata": {},
   "outputs": [],
   "source": [
    "def download_and_store_dataset_json(url:str,destination_path:str):\n",
    "    response = requests.get(url)\n",
    "    data = response.json()\n",
    "    with open(destination_path, \"w\", encoding=\"utf-8\") as json_file:\n",
    "        json.dump(data, json_file, indent=4, ensure_ascii=False)\n",
    "    print(f\"les données sont stockeé dans {destination_path}\")\n",
    "\n",
    "#Donnée Sénégal-Dakar\n",
    "lat = \"14.692\"\n",
    "lon = \"-17.4467\""
   ]
  },
  {
   "cell_type": "markdown",
   "metadata": {},
   "source": [
    "## Récupéré les données sous openweather\n",
    "- On peut collecter les données en temps réel en utilisant openweather.\n",
    "- Nous pouvons par exemple bien récupéré des données toutes les 30 mins et les inserrer dans notre entrepot apres un job etl"
   ]
  },
  {
   "cell_type": "code",
   "execution_count": 6,
   "metadata": {},
   "outputs": [
    {
     "data": {
      "text/plain": [
       "'\"\\nAPI_key = \"b9132f4460b8660c937108287ec81761\"\\nlang=\"fr\"\\nurl = f\"https://api.openweathermap.org/data/2.5/weather?lat={lat}&lon={lon}&appid={API_key}\"\\n\\ndownload_and_store_dataset_json(url, \"openweather_data.json\")\"\\n'"
      ]
     },
     "execution_count": 6,
     "metadata": {},
     "output_type": "execute_result"
    }
   ],
   "source": [
    "\"\"\"\"\n",
    "API_key = \"b9132f4460b8660c937108287ec81761\"\n",
    "lang=\"fr\"\n",
    "url = f\"https://api.openweathermap.org/data/2.5/weather?lat={lat}&lon={lon}&appid={API_key}\"\n",
    "\n",
    "download_and_store_dataset_json(url, \"openweather_data.json\")\"\n",
    "\"\"\""
   ]
  },
  {
   "cell_type": "markdown",
   "metadata": {},
   "source": [
    "# Récupéré les données sous NASA POWER\n",
    "## Description des Paramètres Météorologiques (API NASA POWER)\n",
    "\n",
    "1. **T2M** – **Température de l'air à 2 mètres** (°C)  \n",
    "   Température mesurée à 2 mètres du sol, utilisée pour estimer la température ambiante.\n",
    "\n",
    "2. **RH2M** – **Humidité relative à 2 mètres** (%)  \n",
    "   L'humidité relative de l'air mesurée à 2 mètres du sol. Elle indique le pourcentage de vapeur d'eau présente dans l'air par rapport à la quantité maximale que l'air peut contenir à la même température.\n",
    "\n",
    "3. **T2MWET** – **Température humide à 2 mètres** (°C)  \n",
    "   Température de l'air mesurée en tenant compte de l'humidité. Elle est utilisée pour estimer la sensation de chaleur dans un environnement humide.\n",
    "\n",
    "4. **PRECTOT** – **Précipitations totales** (mm)  \n",
    "   La quantité totale de précipitations tombées pendant la période spécifiée, mesurée en millimètres.\n",
    "\n",
    "5. **WS10M** – **Vitesse du vent à 10 mètres** (m/s)  \n",
    "   La vitesse du vent mesurée à 10 mètres au-dessus du sol. C'est une mesure standard pour évaluer la force du vent dans un environnement donné.\n",
    "\n",
    "6. **WD10M** – **Direction du vent à 10 mètres** (degrés)  \n",
    "   La direction du vent mesurée à 10 mètres au-dessus du sol, exprimée en degrés (de 0° à 360°).  \n",
    "   - 0° représente le vent venant du nord  \n",
    "   - 90° représente le vent venant de l'est  \n",
    "   - 180° représente le vent venant du sud  \n",
    "   - 270° représente le vent venant de l'ouest\n",
    "\n",
    "7. **T2MDEW** – **Température du point de rosée à 2 mètres** (°C)  \n",
    "   La température à laquelle l'humidité dans l'air commence à se condenser pour former de la rosée. Ce paramètre est utilisé pour évaluer la probabilité de condensation dans l'air.\n",
    "\n",
    "8. **V10M** – **Vitesse du vent à 10 mètres** (m/s)  \n",
    "   Il s'agit de la même donnée que **WS10M**, mais parfois ce paramètre peut être utilisé dans un format différent pour représenter la vitesse du vent à 10 mètres du sol.\n",
    "\n",
    "9. **PS** – **Pression au niveau de la mer** (hPa)  \n",
    "   La pression atmosphérique mesurée au niveau de la mer, exprimée en hectopascals (hPa). Elle donne une indication des conditions de pression qui affectent le temps.\n",
    "\n",
    "10. **QV2M** – **Humidité absolue à 2 mètres** (kg/m³)  \n",
    "    L'humidité absolue à 2 mètres du sol, mesurée en kilogrammes d'eau par mètre cube d'air. Ce paramètre est utilisé pour quantifier la quantité de vapeur d'eau présente dans l'air.\n",
    "\n",
    "11. **U10M** – **Vitesse du vent (composante u) à 10 mètres** (m/s)  \n",
    "    La composante \"u\" du vent à 10 mètres, représentant la vitesse du vent dans la direction est-ouest. Elle fait partie des deux composantes du vent, l'autre étant la composante \"v\", qui représente la direction nord-sud.\n"
   ]
  },
  {
   "cell_type": "code",
   "execution_count": 5,
   "metadata": {},
   "outputs": [
    {
     "name": "stdout",
     "output_type": "stream",
     "text": [
      "https://power.larc.nasa.gov/api/temporal/daily/point?parameters=T2M,RH2M,T2MWET,PRECTOT,WS10M,WD10M,T2MDEW,V10M,PS,QV2M,U10M&community=AG&longitude=-17.4467&latitude=14.692&start=20220101&end=20240101&format=json\n",
      "les données sont stockeé dans NASA_POWER_data.json\n"
     ]
    }
   ],
   "source": [
    "start_date = \"20220101\"\n",
    "end_date = \"20240101\"\n",
    "url = f\"https://power.larc.nasa.gov/api/temporal/daily/point?parameters=T2M,RH2M,T2MWET,PRECTOT,WS10M,WD10M,T2MDEW,V10M,PS,QV2M,U10M&community=AG&longitude={lon}&latitude={lat}&start={start_date}&end={end_date}&format=json\"\n",
    "print(url)\n",
    "download_and_store_dataset_json(url, \"NASA_POWER_data.json\")"
   ]
  },
  {
   "cell_type": "markdown",
   "metadata": {},
   "source": [
    "# Récupéré les données sous Open-Meteo\n",
    "## Description des Paramètres Météorologiques (API Open-Meteo)\n",
    "\n",
    "1. **temperature_2m_max** – Température maximale à 2 mètres (°C)  \n",
    "   La température maximale mesurée à 2 mètres au-dessus du sol pour chaque journée.\n",
    "\n",
    "2. **temperature_2m_min** – Température minimale à 2 mètres (°C)  \n",
    "   La température minimale mesurée à 2 mètres au-dessus du sol pour chaque journée.\n",
    "\n",
    "3. **precipitation_sum** – Précipitations totales (mm)  \n",
    "   La quantité totale de précipitations tombées sur une période de 24 heures (en millimètres).\n",
    "\n",
    "4. **windspeed_10m_max** – Vitesse maximale du vent à 10 mètres (m/s)  \n",
    "   La vitesse maximale du vent mesurée à 10 mètres au-dessus du sol pendant la journée.\n",
    "\n",
    "5. **windgusts_10m_max** – Rafales maximales du vent à 10 mètres (m/s)  \n",
    "   La vitesse maximale des rafales du vent mesurées à 10 mètres au-dessus du sol.\n",
    "\n",
    "6. **winddirection_10m_dominant** – Direction dominante du vent à 10 mètres (degrés)  \n",
    "   La direction dominante du vent mesurée à 10 mètres au-dessus du sol, exprimée en degrés (0° = Nord, 90° = Est, 180° = Sud, 270° = Ouest).\n",
    "\n",
    "7. **weathercode** – Code météo  \n",
    "   Un code numérique représentant les conditions météorologiques observées pour la journée (ex. ensoleillé, nuageux, pluvieux, etc.).\n",
    "\n",
    "8. **shortwave_radiation_sum** – Radiation solaire totale (W/m²)  \n",
    "   La somme de la radiation solaire reçue par la surface de la Terre pendant la journée (en W/m²).\n",
    "\n",
    "9. **et0_fao_evapotranspiration** – Evapotranspiration potentielle (mm)  \n",
    "   L'évapotranspiration potentielle calculée selon la méthode FAO, qui donne la quantité d'eau évaporée et transpirée par les plantes.\n",
    "\n",
    "10. **cloudcover_max** – Couverture nuageuse maximale (%)  \n",
    "    Le pourcentage de couverture nuageuse maximale observée pendant la journée.\n"
   ]
  },
  {
   "cell_type": "code",
   "execution_count": 8,
   "metadata": {},
   "outputs": [
    {
     "name": "stdout",
     "output_type": "stream",
     "text": [
      "les données sont stockeé dans open_meteo_data.json\n"
     ]
    }
   ],
   "source": [
    "\n",
    "start_date = \"2023-03-01\"\n",
    "end_date = \"2024-03-05\"\n",
    "\n",
    "url = f\"https://archive-api.open-meteo.com/v1/archive?latitude={lat}&longitude={lon}&start_date={start_date}&end_date={end_date}&daily=temperature_2m_max,temperature_2m_min,precipitation_sum,windspeed_10m_max,windgusts_10m_max,winddirection_10m_dominant,weathercode,shortwave_radiation_sum,et0_fao_evapotranspiration,cloudcover_max&timezone=Africa/Dakar\"\n",
    "download_and_store_dataset_json(url, \"open_meteo_data.json\")"
   ]
  }
 ],
 "metadata": {
  "kernelspec": {
   "display_name": "bda_env",
   "language": "python",
   "name": "python3"
  },
  "language_info": {
   "codemirror_mode": {
    "name": "ipython",
    "version": 3
   },
   "file_extension": ".py",
   "mimetype": "text/x-python",
   "name": "python",
   "nbconvert_exporter": "python",
   "pygments_lexer": "ipython3",
   "version": "3.9.21"
  }
 },
 "nbformat": 4,
 "nbformat_minor": 2
}
